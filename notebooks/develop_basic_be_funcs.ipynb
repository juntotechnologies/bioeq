{
 "cells": [
  {
   "cell_type": "code",
   "execution_count": 1,
   "metadata": {
    "vscode": {
     "languageId": "python"
    }
   },
   "outputs": [],
   "source": [
    "import bioeq\n",
    "import polars as pl\n",
    "from bioeq import Crossover2x2"
   ]
  },
  {
   "cell_type": "code",
   "execution_count": 2,
   "metadata": {
    "vscode": {
     "languageId": "python"
    }
   },
   "outputs": [],
   "source": [
    "# Load Simdata\n",
    "\n",
    "df_simdata = pl.read_csv(source='https://raw.githubusercontent.com/shaunporwal/bioeq/refs/heads/main/simdata/bioeq_simdata_1.csv')"
   ]
  },
  {
   "cell_type": "code",
   "execution_count": 3,
   "metadata": {
    "vscode": {
     "languageId": "python"
    }
   },
   "outputs": [
    {
     "data": {
      "text/plain": [
       "'0.1.0.1'"
      ]
     },
     "execution_count": null,
     "metadata": {},
     "output_type": "execute_result"
    }
   ],
   "source": [
    "bioeq.__version__"
   ]
  },
  {
   "cell_type": "code",
   "execution_count": 4,
   "metadata": {
    "vscode": {
     "languageId": "python"
    }
   },
   "outputs": [
    {
     "data": {
      "text/plain": [
       "['SubjectID',\n",
       " 'Period',\n",
       " 'Sequence',\n",
       " 'Formulation',\n",
       " 'Time (hr)',\n",
       " 'Concentration (ng/mL)']"
      ]
     },
     "execution_count": null,
     "metadata": {},
     "output_type": "execute_result"
    }
   ],
   "source": [
    "df_simdata.columns"
   ]
  },
  {
   "cell_type": "code",
   "execution_count": 5,
   "metadata": {
    "vscode": {
     "languageId": "python"
    }
   },
   "outputs": [
    {
     "data": {
      "text/html": [
       "<div><style>\n",
       ".dataframe > thead > tr,\n",
       ".dataframe > tbody > tr {\n",
       "  text-align: right;\n",
       "  white-space: pre-wrap;\n",
       "}\n",
       "</style>\n",
       "<small>shape: (70,)</small><table border=\"1\" class=\"dataframe\"><thead><tr><th>Formulation</th></tr><tr><td>str</td></tr></thead><tbody><tr><td>&quot;Reference&quot;</td></tr><tr><td>&quot;Reference&quot;</td></tr><tr><td>&quot;Reference&quot;</td></tr><tr><td>&quot;Reference&quot;</td></tr><tr><td>&quot;Reference&quot;</td></tr><tr><td>&hellip;</td></tr><tr><td>&quot;Test&quot;</td></tr><tr><td>&quot;Test&quot;</td></tr><tr><td>&quot;Test&quot;</td></tr><tr><td>&quot;Test&quot;</td></tr><tr><td>&quot;Test&quot;</td></tr></tbody></table></div>"
      ],
      "text/plain": [
       "shape: (70,)\n",
       "Series: 'Formulation' [str]\n",
       "[\n",
       "\t\"Reference\"\n",
       "\t\"Reference\"\n",
       "\t\"Reference\"\n",
       "\t\"Reference\"\n",
       "\t\"Reference\"\n",
       "\t…\n",
       "\t\"Test\"\n",
       "\t\"Test\"\n",
       "\t\"Test\"\n",
       "\t\"Test\"\n",
       "\t\"Test\"\n",
       "]"
      ]
     },
     "execution_count": null,
     "metadata": {},
     "output_type": "execute_result"
    }
   ],
   "source": [
    "df_simdata['Formulation']"
   ]
  },
  {
   "cell_type": "code",
   "execution_count": 8,
   "metadata": {
    "vscode": {
     "languageId": "python"
    }
   },
   "outputs": [
    {
     "ename": "SyntaxError",
     "evalue": "invalid syntax (3809530840.py, line 1)",
     "output_type": "error",
     "traceback": [
      "\u001b[0;36m  Cell \u001b[0;32mIn[8], line 1\u001b[0;36m\u001b[0m\n",
      "\u001b[0;31m    class_co2x2 =\u001b[0m\n",
      "\u001b[0m                  ^\u001b[0m\n",
      "\u001b[0;31mSyntaxError\u001b[0m\u001b[0;31m:\u001b[0m invalid syntax\n"
     ]
    }
   ],
   "source": [
    "class_co2x2 = Crossover2x2(\n",
    "        data=df_simdata,\n",
    "        conc_col='Concentration (ng/mL)',\n",
    "        period_col='Period',\n",
    "        seq_col='Sequence',\n",
    "        time_col='Time (hr)',\n",
    "        subject_col='SubjectID',\n",
    "        form_col='Formulation'\n",
    "    )"
   ]
  },
  {
   "cell_type": "code",
   "execution_count": null,
   "metadata": {
    "vscode": {
     "languageId": "python"
    }
   },
   "outputs": [],
   "source": [
    "pl.read_csv(source='https://raw.githubusercontent.com/statist-bhfz/bioeq/refs/heads/master/testdata.csv')"
   ]
  },
  {
   "cell_type": "code",
   "execution_count": null,
   "metadata": {
    "vscode": {
     "languageId": "python"
    }
   },
   "outputs": [],
   "source": [
    "df_simdata = pl.read_csv(\n",
    "    source=\"https://raw.githubusercontent.com/statist-bhfz/bioeq/refs/heads/master/testdata.csv\",\n",
    "    separator=\";\",\n",
    "    truncate_ragged_lines=True,\n",
    ")\n",
    "\n",
    "df_simdata = df.with_columns( # with_columns doesn't modify cols in place, so has to be casted back to df\n",
    "    pl.col(\"subj\").cast(dtype=pl.Int64),\n",
    "    pl.col(\"seq\").cast(dtype=pl.Int64),\n",
    "    pl.col(\"prd\").cast(dtype=pl.Int64),\n",
    "    pl.col(\"drug\").cast(dtype=pl.String),\n",
    "    pl.col(\"time\").cast(dtype=pl.String).str.replace(r\",\",\".\").cast(dtype=pl.Float64),\n",
    "    pl.col(\"conc\").cast(dtype=pl.String).str.replace(r\",\",\".\").cast(dtype=pl.Float64)\n",
    ")\n",
    "\n",
    "df"
   ]
  },
  {
   "cell_type": "code",
   "execution_count": null,
   "metadata": {
    "vscode": {
     "languageId": "python"
    }
   },
   "outputs": [],
   "source": [
    "df_simdata.columns\n"
   ]
  },
  {
   "cell_type": "code",
   "execution_count": 36,
   "metadata": {
    "vscode": {
     "languageId": "python"
    }
   },
   "outputs": [],
   "source": [
    "subject_col = 'subj'\n",
    "time_col = 'time'\n",
    "conc_col = 'conc'\n"
   ]
  },
  {
   "cell_type": "code",
   "execution_count": null,
   "metadata": {
    "vscode": {
     "languageId": "python"
    }
   },
   "outputs": [],
   "source": [
    "# Validate required columns\n",
    "\n",
    "df = df_simdata.clone()\n",
    "df = df.sort([subject_col, time_col]).clone()\n",
    "\n",
    "df"
   ]
  },
  {
   "cell_type": "code",
   "execution_count": null,
   "metadata": {
    "vscode": {
     "languageId": "python"
    }
   },
   "outputs": [],
   "source": [
    "# Compute AUC for each group\n",
    "auc_df = df.group_by(subject_col).agg(\n",
    "    pl.struct([time_col, conc_col])\n",
    "    .apply(\n",
    "        lambda rows: np.trapz(\n",
    "            [row[conc_col] for row in rows],\n",
    "            [row[time_col] for row in rows],\n",
    "        )\n",
    "    )\n",
    "    .alias(\"AUC\")\n",
    ")"
   ]
  },
  {
   "cell_type": "markdown",
   "metadata": {},
   "source": []
  },
  {
   "cell_type": "code",
   "execution_count": null,
   "metadata": {
    "vscode": {
     "languageId": "python"
    }
   },
   "outputs": [],
   "source": [
    "\n",
    "# The below is probably something that has to be developed in parallel to this bioeq package, it's a whole separate entity\n",
    "\n",
    "# In doing the data validation, what we want is probably something like:\n",
    "\n",
    "# Parse\n",
    "\n",
    "# 1. State all expected raw colnames and types or if applicable, expected categorical values\n",
    "# 2. State raw col to parsed col relationship\n",
    "# 3. See if there are problematic values\n",
    "# 4. Resolve problematic values and create parsed cols\n",
    "# 5. Check that they have been resolved\n",
    "# 6. Assign the correct types to all the parsed cols once we're happy with col vals\n",
    "\n",
    "# Validate\n",
    "\n",
    "# 7. Check that all col values are reasonable to human judgement (pointblank in R)\n",
    "# 8. Change those that aren't or filter out, and proceed with cleaned data (get_data_pass() in R)\n",
    "\n",
    "# Derive\n",
    "\n",
    "# 9. Create a list of cols to derive and which cols they are derived from\n",
    "# 10. Derive the columns in the dataframe\n",
    "# 11. Check that we derived all the columns that we said we would\n",
    "# 12. Check that the col vals now have reasonable values, and if not either filter or replace (pointblank in R)\n"
   ]
  }
 ],
 "metadata": {
  "language_info": {
   "name": "plaintext"
  }
 },
 "nbformat": 4,
 "nbformat_minor": 2
}
