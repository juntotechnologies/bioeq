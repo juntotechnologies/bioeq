{
 "cells": [
  {
   "cell_type": "code",
   "execution_count": 45,
   "metadata": {
    "vscode": {
     "languageId": "python"
    }
   },
   "outputs": [],
   "source": [
    "import bioeq\n",
    "import polars as pl\n",
    "from bioeq import Crossover2x2\n",
    "import numpy as np"
   ]
  },
  {
   "cell_type": "code",
   "execution_count": 2,
   "metadata": {
    "vscode": {
     "languageId": "python"
    }
   },
   "outputs": [],
   "source": [
    "# Load Simdata\n",
    "\n",
    "df_simdata = pl.read_csv(\n",
    "    source=\"https://raw.githubusercontent.com/shaunporwal/bioeq/refs/heads/main/simdata/bioeq_simdata_1.csv\"\n",
    ")"
   ]
  },
  {
   "cell_type": "code",
   "execution_count": 3,
   "metadata": {
    "vscode": {
     "languageId": "python"
    }
   },
   "outputs": [
    {
     "data": {
      "text/plain": [
       "'0.1.0.1'"
      ]
     },
     "execution_count": null,
     "metadata": {},
     "output_type": "execute_result"
    }
   ],
   "source": [
    "bioeq.__version__"
   ]
  },
  {
   "cell_type": "code",
   "execution_count": 4,
   "metadata": {
    "vscode": {
     "languageId": "python"
    }
   },
   "outputs": [
    {
     "data": {
      "text/plain": [
       "['SubjectID',\n",
       " 'Period',\n",
       " 'Sequence',\n",
       " 'Formulation',\n",
       " 'Time (hr)',\n",
       " 'Concentration (ng/mL)']"
      ]
     },
     "execution_count": null,
     "metadata": {},
     "output_type": "execute_result"
    }
   ],
   "source": [
    "df_simdata.columns"
   ]
  },
  {
   "cell_type": "code",
   "execution_count": 12,
   "metadata": {
    "vscode": {
     "languageId": "python"
    }
   },
   "outputs": [
    {
     "ename": "ColumnNotFoundError",
     "evalue": "'rename' on column: 'SubjectID' is invalid\n\nSchema at this point: Schema:\nname: subject_id, field: Int64\nname: period, field: Int64\nname: sequence, field: String\nname: formulation, field: String\nname: time, field: Float64\nname: concentration, field: Float64\n\n\nResolved plan until failure:\n\n\t---> FAILED HERE RESOLVING THIS_NODE <---\nDF [\"subject_id\", \"period\", \"sequence\", \"formulation\"]; PROJECT */6 COLUMNS",
     "output_type": "error",
     "traceback": [
      "\u001b[0;31m---------------------------------------------------------------------------\u001b[0m\n",
      "\u001b[0;31mColumnNotFoundError\u001b[0m                       Traceback (most recent call last)\n",
      "Cell \u001b[0;32mIn[12], line 1\u001b[0m\n",
      "\u001b[0;32m----> 1\u001b[0m df_simdata \u001b[38;5;241m=\u001b[39m \u001b[43mdf_simdata\u001b[49m\u001b[38;5;241;43m.\u001b[39;49m\u001b[43mrename\u001b[49m\u001b[43m(\u001b[49m\n",
      "\u001b[1;32m      2\u001b[0m \u001b[43m    \u001b[49m\u001b[43m{\u001b[49m\n",
      "\u001b[1;32m      3\u001b[0m \u001b[43m        \u001b[49m\u001b[38;5;124;43m\"\u001b[39;49m\u001b[38;5;124;43mSubjectID\u001b[39;49m\u001b[38;5;124;43m\"\u001b[39;49m\u001b[43m:\u001b[49m\u001b[43m \u001b[49m\u001b[38;5;124;43m\"\u001b[39;49m\u001b[38;5;124;43msubject_id\u001b[39;49m\u001b[38;5;124;43m\"\u001b[39;49m\u001b[43m,\u001b[49m\n",
      "\u001b[1;32m      4\u001b[0m \u001b[43m        \u001b[49m\u001b[38;5;124;43m\"\u001b[39;49m\u001b[38;5;124;43mPeriod\u001b[39;49m\u001b[38;5;124;43m\"\u001b[39;49m\u001b[43m:\u001b[49m\u001b[43m \u001b[49m\u001b[38;5;124;43m\"\u001b[39;49m\u001b[38;5;124;43mperiod\u001b[39;49m\u001b[38;5;124;43m\"\u001b[39;49m\u001b[43m,\u001b[49m\n",
      "\u001b[1;32m      5\u001b[0m \u001b[43m        \u001b[49m\u001b[38;5;124;43m\"\u001b[39;49m\u001b[38;5;124;43mSequence\u001b[39;49m\u001b[38;5;124;43m\"\u001b[39;49m\u001b[43m:\u001b[49m\u001b[43m \u001b[49m\u001b[38;5;124;43m\"\u001b[39;49m\u001b[38;5;124;43msequence\u001b[39;49m\u001b[38;5;124;43m\"\u001b[39;49m\u001b[43m,\u001b[49m\n",
      "\u001b[1;32m      6\u001b[0m \u001b[43m        \u001b[49m\u001b[38;5;124;43m\"\u001b[39;49m\u001b[38;5;124;43mFormulation\u001b[39;49m\u001b[38;5;124;43m\"\u001b[39;49m\u001b[43m:\u001b[49m\u001b[43m \u001b[49m\u001b[38;5;124;43m\"\u001b[39;49m\u001b[38;5;124;43mformulation\u001b[39;49m\u001b[38;5;124;43m\"\u001b[39;49m\u001b[43m,\u001b[49m\n",
      "\u001b[1;32m      7\u001b[0m \u001b[43m        \u001b[49m\u001b[38;5;124;43m\"\u001b[39;49m\u001b[38;5;124;43mTime (hr)\u001b[39;49m\u001b[38;5;124;43m\"\u001b[39;49m\u001b[43m:\u001b[49m\u001b[43m \u001b[49m\u001b[38;5;124;43m\"\u001b[39;49m\u001b[38;5;124;43mtime\u001b[39;49m\u001b[38;5;124;43m\"\u001b[39;49m\u001b[43m,\u001b[49m\n",
      "\u001b[1;32m      8\u001b[0m \u001b[43m        \u001b[49m\u001b[38;5;124;43m\"\u001b[39;49m\u001b[38;5;124;43mConcentration (ng/mL)\u001b[39;49m\u001b[38;5;124;43m\"\u001b[39;49m\u001b[43m:\u001b[49m\u001b[43m \u001b[49m\u001b[38;5;124;43m\"\u001b[39;49m\u001b[38;5;124;43mconcentration\u001b[39;49m\u001b[38;5;124;43m\"\u001b[39;49m\u001b[43m,\u001b[49m\n",
      "\u001b[1;32m      9\u001b[0m \u001b[43m    \u001b[49m\u001b[43m}\u001b[49m\n",
      "\u001b[1;32m     10\u001b[0m \u001b[43m)\u001b[49m\n",
      "\n",
      "File \u001b[0;32m~/Library/Caches/pypoetry/virtualenvs/bioeq-wYo_JtsV-py3.11/lib/python3.11/site-packages/polars/dataframe/frame.py:4742\u001b[0m, in \u001b[0;36mDataFrame.rename\u001b[0;34m(self, mapping, strict)\u001b[0m\n",
      "\u001b[1;32m   4698\u001b[0m \u001b[38;5;28;01mdef\u001b[39;00m\u001b[38;5;250m \u001b[39m\u001b[38;5;21mrename\u001b[39m(\n",
      "\u001b[1;32m   4699\u001b[0m     \u001b[38;5;28mself\u001b[39m, mapping: \u001b[38;5;28mdict\u001b[39m[\u001b[38;5;28mstr\u001b[39m, \u001b[38;5;28mstr\u001b[39m] \u001b[38;5;241m|\u001b[39m Callable[[\u001b[38;5;28mstr\u001b[39m], \u001b[38;5;28mstr\u001b[39m], \u001b[38;5;241m*\u001b[39m, strict: \u001b[38;5;28mbool\u001b[39m \u001b[38;5;241m=\u001b[39m \u001b[38;5;28;01mTrue\u001b[39;00m\n",
      "\u001b[1;32m   4700\u001b[0m ) \u001b[38;5;241m-\u001b[39m\u001b[38;5;241m>\u001b[39m DataFrame:\n",
      "\u001b[1;32m   4701\u001b[0m \u001b[38;5;250m    \u001b[39m\u001b[38;5;124;03m\"\"\"\u001b[39;00m\n",
      "\u001b[1;32m   4702\u001b[0m \u001b[38;5;124;03m    Rename column names.\u001b[39;00m\n",
      "\u001b[1;32m   4703\u001b[0m \n",
      "\u001b[0;32m   (...)\u001b[0m\n",
      "\u001b[1;32m   4740\u001b[0m \u001b[38;5;124;03m    └─────┴─────┴─────┘\u001b[39;00m\n",
      "\u001b[1;32m   4741\u001b[0m \u001b[38;5;124;03m    \"\"\"\u001b[39;00m\n",
      "\u001b[0;32m-> 4742\u001b[0m     \u001b[38;5;28;01mreturn\u001b[39;00m \u001b[38;5;28;43mself\u001b[39;49m\u001b[38;5;241;43m.\u001b[39;49m\u001b[43mlazy\u001b[49m\u001b[43m(\u001b[49m\u001b[43m)\u001b[49m\u001b[38;5;241;43m.\u001b[39;49m\u001b[43mrename\u001b[49m\u001b[43m(\u001b[49m\u001b[43mmapping\u001b[49m\u001b[43m,\u001b[49m\u001b[43m \u001b[49m\u001b[43mstrict\u001b[49m\u001b[38;5;241;43m=\u001b[39;49m\u001b[43mstrict\u001b[49m\u001b[43m)\u001b[49m\u001b[38;5;241;43m.\u001b[39;49m\u001b[43mcollect\u001b[49m\u001b[43m(\u001b[49m\u001b[43m_eager\u001b[49m\u001b[38;5;241;43m=\u001b[39;49m\u001b[38;5;28;43;01mTrue\u001b[39;49;00m\u001b[43m)\u001b[49m\n",
      "\n",
      "File \u001b[0;32m~/Library/Caches/pypoetry/virtualenvs/bioeq-wYo_JtsV-py3.11/lib/python3.11/site-packages/polars/lazyframe/frame.py:2056\u001b[0m, in \u001b[0;36mLazyFrame.collect\u001b[0;34m(self, type_coercion, _type_check, predicate_pushdown, projection_pushdown, simplify_expression, slice_pushdown, comm_subplan_elim, comm_subexpr_elim, cluster_with_columns, collapse_joins, no_optimization, streaming, engine, background, _check_order, _eager, **_kwargs)\u001b[0m\n",
      "\u001b[1;32m   2054\u001b[0m \u001b[38;5;66;03m# Only for testing purposes\u001b[39;00m\n",
      "\u001b[1;32m   2055\u001b[0m callback \u001b[38;5;241m=\u001b[39m _kwargs\u001b[38;5;241m.\u001b[39mget(\u001b[38;5;124m\"\u001b[39m\u001b[38;5;124mpost_opt_callback\u001b[39m\u001b[38;5;124m\"\u001b[39m, callback)\n",
      "\u001b[0;32m-> 2056\u001b[0m \u001b[38;5;28;01mreturn\u001b[39;00m wrap_df(\u001b[43mldf\u001b[49m\u001b[38;5;241;43m.\u001b[39;49m\u001b[43mcollect\u001b[49m\u001b[43m(\u001b[49m\u001b[43mcallback\u001b[49m\u001b[43m)\u001b[49m)\n",
      "\n",
      "\u001b[0;31mColumnNotFoundError\u001b[0m: 'rename' on column: 'SubjectID' is invalid\n",
      "\n",
      "Schema at this point: Schema:\n",
      "name: subject_id, field: Int64\n",
      "name: period, field: Int64\n",
      "name: sequence, field: String\n",
      "name: formulation, field: String\n",
      "name: time, field: Float64\n",
      "name: concentration, field: Float64\n",
      "\n",
      "\n",
      "Resolved plan until failure:\n",
      "\n",
      "\t---> FAILED HERE RESOLVING THIS_NODE <---\n",
      "DF [\"subject_id\", \"period\", \"sequence\", \"formulation\"]; PROJECT */6 COLUMNS"
     ]
    }
   ],
   "source": [
    "df_simdata = df_simdata.rename(\n",
    "    {\n",
    "        \"SubjectID\": \"subject_id\",\n",
    "        \"Period\": \"period\",\n",
    "        \"Sequence\": \"sequence\",\n",
    "        \"Formulation\": \"formulation\",\n",
    "        \"Time (hr)\": \"time\",\n",
    "        \"Concentration (ng/mL)\": \"concentration\",\n",
    "    }\n",
    ")"
   ]
  },
  {
   "cell_type": "code",
   "execution_count": 6,
   "metadata": {
    "vscode": {
     "languageId": "python"
    }
   },
   "outputs": [
    {
     "data": {
      "text/plain": [
       "['subject_id', 'period', 'sequence', 'formulation', 'time', 'concentration']"
      ]
     },
     "execution_count": null,
     "metadata": {},
     "output_type": "execute_result"
    }
   ],
   "source": [
    "df_simdata.columns"
   ]
  },
  {
   "cell_type": "code",
   "execution_count": 13,
   "metadata": {
    "vscode": {
     "languageId": "python"
    }
   },
   "outputs": [
    {
     "ename": "AttributeError",
     "evalue": "'DataFrame' object has no attribute 'groupby'",
     "output_type": "error",
     "traceback": [
      "\u001b[0;31m---------------------------------------------------------------------------\u001b[0m\n",
      "\u001b[0;31mAttributeError\u001b[0m                            Traceback (most recent call last)\n",
      "Cell \u001b[0;32mIn[13], line 13\u001b[0m\n",
      "\u001b[1;32m      2\u001b[0m crossover \u001b[38;5;241m=\u001b[39m Crossover2x2(\n",
      "\u001b[1;32m      3\u001b[0m     data\u001b[38;5;241m=\u001b[39mdf_simdata,\n",
      "\u001b[1;32m      4\u001b[0m     subject_col\u001b[38;5;241m=\u001b[39m\u001b[38;5;124m\"\u001b[39m\u001b[38;5;124msubject_id\u001b[39m\u001b[38;5;124m\"\u001b[39m,\n",
      "\u001b[0;32m   (...)\u001b[0m\n",
      "\u001b[1;32m      9\u001b[0m     form_col\u001b[38;5;241m=\u001b[39m\u001b[38;5;124m\"\u001b[39m\u001b[38;5;124mformulation\u001b[39m\u001b[38;5;124m\"\u001b[39m,\n",
      "\u001b[1;32m     10\u001b[0m )\n",
      "\u001b[1;32m     12\u001b[0m \u001b[38;5;66;03m# Test the AUC calculation function\u001b[39;00m\n",
      "\u001b[0;32m---> 13\u001b[0m auc_results \u001b[38;5;241m=\u001b[39m \u001b[43mcrossover\u001b[49m\u001b[38;5;241;43m.\u001b[39;49m\u001b[43mcalculate_auc\u001b[49m\u001b[43m(\u001b[49m\u001b[43m)\u001b[49m\n",
      "\u001b[1;32m     14\u001b[0m \u001b[38;5;28mprint\u001b[39m(auc_results)\n",
      "\n",
      "File \u001b[0;32m~/Documents/Documents - Shaun’s MacBook Air/GitHub/python_packages/bioeq/bioeq/crossover2x2.py:88\u001b[0m, in \u001b[0;36mCrossover2x2.calculate_auc\u001b[0;34m(self)\u001b[0m\n",
      "\u001b[1;32m     83\u001b[0m \u001b[38;5;28;01mdef\u001b[39;00m\u001b[38;5;250m \u001b[39m\u001b[38;5;21mcalculate_auc\u001b[39m(\u001b[38;5;28mself\u001b[39m):\n",
      "\u001b[1;32m     84\u001b[0m \u001b[38;5;250m    \u001b[39m\u001b[38;5;124;03m\"\"\"\u001b[39;00m\n",
      "\u001b[1;32m     85\u001b[0m \u001b[38;5;124;03m    Calculate area under the concentration-time curve (AUC) using the trapezoidal rule.\u001b[39;00m\n",
      "\u001b[1;32m     86\u001b[0m \u001b[38;5;124;03m    AUC is computed for each subject in each period and for each formulation.\u001b[39;00m\n",
      "\u001b[1;32m     87\u001b[0m \u001b[38;5;124;03m    \"\"\"\u001b[39;00m\n",
      "\u001b[0;32m---> 88\u001b[0m     auc_df \u001b[38;5;241m=\u001b[39m \u001b[38;5;28;43mself\u001b[39;49m\u001b[38;5;241;43m.\u001b[39;49m\u001b[43mdata\u001b[49m\u001b[38;5;241;43m.\u001b[39;49m\u001b[43mgroupby\u001b[49m(\n",
      "\u001b[1;32m     89\u001b[0m         [\u001b[38;5;28mself\u001b[39m\u001b[38;5;241m.\u001b[39msubject_col, \u001b[38;5;28mself\u001b[39m\u001b[38;5;241m.\u001b[39mperiod_col, \u001b[38;5;28mself\u001b[39m\u001b[38;5;241m.\u001b[39mform_col]\n",
      "\u001b[1;32m     90\u001b[0m     )\u001b[38;5;241m.\u001b[39mapply(\u001b[38;5;28mself\u001b[39m\u001b[38;5;241m.\u001b[39m_integrate_group)\n",
      "\u001b[1;32m     91\u001b[0m     \u001b[38;5;28;01mreturn\u001b[39;00m auc_df\n",
      "\n",
      "\u001b[0;31mAttributeError\u001b[0m: 'DataFrame' object has no attribute 'groupby'"
     ]
    }
   ],
   "source": [
    "# Instantiate the class with the correct column names\n",
    "crossover = Crossover2x2(\n",
    "    data=df_simdata,\n",
    "    subject_col=\"subject_id\",\n",
    "    seq_col=\"sequence\",\n",
    "    period_col=\"period\",\n",
    "    time_col=\"time\",\n",
    "    conc_col=\"concentration\",\n",
    "    form_col=\"formulation\",\n",
    ")\n",
    "\n",
    "# Test the AUC calculation function\n",
    "auc_results = crossover.calculate_auc()\n",
    "print(auc_results)"
   ]
  },
  {
   "cell_type": "code",
   "execution_count": 25,
   "metadata": {
    "vscode": {
     "languageId": "python"
    }
   },
   "outputs": [],
   "source": [
    "subject_col = \"subject_id\"\n",
    "period_col = \"period\"\n",
    "form_col = \"formulation\"\n",
    "time_col = \"time\"\n",
    "conc_col = \"concentration\""
   ]
  },
  {
   "cell_type": "code",
   "execution_count": 39,
   "metadata": {
    "vscode": {
     "languageId": "python"
    }
   },
   "outputs": [],
   "source": [
    "# Step 1: Sort the DataFrame to ensure correct time order within each group.\n",
    "df_sorted = df_simdata.sort([subject_col, period_col, form_col, time_col])"
   ]
  },
  {
   "cell_type": "code",
   "execution_count": 40,
   "metadata": {
    "vscode": {
     "languageId": "python"
    }
   },
   "outputs": [
    {
     "data": {
      "text/plain": [
       "['subject_id', 'period', 'sequence', 'formulation', 'time', 'concentration']"
      ]
     },
     "execution_count": null,
     "metadata": {},
     "output_type": "execute_result"
    }
   ],
   "source": [
    "df_sorted.columns"
   ]
  },
  {
   "cell_type": "code",
   "execution_count": 46,
   "metadata": {
    "vscode": {
     "languageId": "python"
    }
   },
   "outputs": [],
   "source": [
    "# Step 2: Group by subject, period, and formulation, aggregating time and concentration into lists.\n",
    "grouped_df = df_sorted.group_by([subject_col, period_col, form_col]).agg(\n",
    "    [\n",
    "        pl.col(time_col).alias(\"times\"),\n",
    "        pl.col(conc_col).alias(\"concentrations\"),\n",
    "    ]\n",
    ")"
   ]
  },
  {
   "cell_type": "code",
   "execution_count": 47,
   "metadata": {
    "vscode": {
     "languageId": "python"
    }
   },
   "outputs": [
    {
     "data": {
      "text/html": [
       "<div><style>\n",
       ".dataframe > thead > tr,\n",
       ".dataframe > tbody > tr {\n",
       "  text-align: right;\n",
       "  white-space: pre-wrap;\n",
       "}\n",
       "</style>\n",
       "<small>shape: (10, 5)</small><table border=\"1\" class=\"dataframe\"><thead><tr><th>subject_id</th><th>period</th><th>formulation</th><th>times</th><th>concentrations</th></tr><tr><td>i64</td><td>i64</td><td>str</td><td>list[f64]</td><td>list[f64]</td></tr></thead><tbody><tr><td>2</td><td>1</td><td>&quot;Reference&quot;</td><td>[0.0, 0.5, … 8.0]</td><td>[49.571954, 38.197632, … 3.47527]</td></tr><tr><td>4</td><td>2</td><td>&quot;Test&quot;</td><td>[0.0, 0.5, … 8.0]</td><td>[48.23696, 39.264123, … 1.847062]</td></tr><tr><td>1</td><td>1</td><td>&quot;Reference&quot;</td><td>[0.0, 0.5, … 8.0]</td><td>[49.449766, 39.455472, … 0.0]</td></tr><tr><td>5</td><td>1</td><td>&quot;Reference&quot;</td><td>[0.0, 0.5, … 8.0]</td><td>[50.69844, 39.113641, … 0.670034]</td></tr><tr><td>3</td><td>1</td><td>&quot;Reference&quot;</td><td>[0.0, 0.5, … 8.0]</td><td>[50.948843, 40.52089, … 0.46904]</td></tr><tr><td>3</td><td>2</td><td>&quot;Test&quot;</td><td>[0.0, 0.5, … 8.0]</td><td>[51.524242, 39.263039, … 1.239981]</td></tr><tr><td>4</td><td>1</td><td>&quot;Reference&quot;</td><td>[0.0, 0.5, … 8.0]</td><td>[49.884352, 38.638935, … 1.2594]</td></tr><tr><td>1</td><td>2</td><td>&quot;Test&quot;</td><td>[0.0, 0.5, … 8.0]</td><td>[49.507197, 39.332619, … 0.487989]</td></tr><tr><td>5</td><td>2</td><td>&quot;Test&quot;</td><td>[0.0, 0.5, … 8.0]</td><td>[49.230332, 40.152211, … 1.985263]</td></tr><tr><td>2</td><td>2</td><td>&quot;Test&quot;</td><td>[0.0, 0.5, … 8.0]</td><td>[50.394233, 39.062258, … 0.280222]</td></tr></tbody></table></div>"
      ],
      "text/plain": [
       "shape: (10, 5)\n",
       "┌────────────┬────────┬─────────────┬───────────────────┬─────────────────────────────────┐\n",
       "│ subject_id ┆ period ┆ formulation ┆ times             ┆ concentrations                  │\n",
       "│ ---        ┆ ---    ┆ ---         ┆ ---               ┆ ---                             │\n",
       "│ i64        ┆ i64    ┆ str         ┆ list[f64]         ┆ list[f64]                       │\n",
       "╞════════════╪════════╪═════════════╪═══════════════════╪═════════════════════════════════╡\n",
       "│ 2          ┆ 1      ┆ Reference   ┆ [0.0, 0.5, … 8.0] ┆ [49.571954, 38.197632, … 3.475… │\n",
       "│ 4          ┆ 2      ┆ Test        ┆ [0.0, 0.5, … 8.0] ┆ [48.23696, 39.264123, … 1.8470… │\n",
       "│ 1          ┆ 1      ┆ Reference   ┆ [0.0, 0.5, … 8.0] ┆ [49.449766, 39.455472, … 0.0]   │\n",
       "│ 5          ┆ 1      ┆ Reference   ┆ [0.0, 0.5, … 8.0] ┆ [50.69844, 39.113641, … 0.6700… │\n",
       "│ 3          ┆ 1      ┆ Reference   ┆ [0.0, 0.5, … 8.0] ┆ [50.948843, 40.52089, … 0.4690… │\n",
       "│ 3          ┆ 2      ┆ Test        ┆ [0.0, 0.5, … 8.0] ┆ [51.524242, 39.263039, … 1.239… │\n",
       "│ 4          ┆ 1      ┆ Reference   ┆ [0.0, 0.5, … 8.0] ┆ [49.884352, 38.638935, … 1.259… │\n",
       "│ 1          ┆ 2      ┆ Test        ┆ [0.0, 0.5, … 8.0] ┆ [49.507197, 39.332619, … 0.487… │\n",
       "│ 5          ┆ 2      ┆ Test        ┆ [0.0, 0.5, … 8.0] ┆ [49.230332, 40.152211, … 1.985… │\n",
       "│ 2          ┆ 2      ┆ Test        ┆ [0.0, 0.5, … 8.0] ┆ [50.394233, 39.062258, … 0.280… │\n",
       "└────────────┴────────┴─────────────┴───────────────────┴─────────────────────────────────┘"
      ]
     },
     "execution_count": null,
     "metadata": {},
     "output_type": "execute_result"
    }
   ],
   "source": [
    "grouped_df"
   ]
  },
  {
   "cell_type": "code",
   "execution_count": 57,
   "metadata": {
    "vscode": {
     "languageId": "python"
    }
   },
   "outputs": [
    {
     "name": "stderr",
     "output_type": "stream",
     "text": [
      "\n",
      "thread '<unnamed>' panicked at crates/polars-python/src/map/lazy.rs:200:19:\n",
      "python function failed: 'list' object has no attribute 'apply'\n"
     ]
    },
    {
     "ename": "PanicException",
     "evalue": "python function failed: 'list' object has no attribute 'apply'",
     "output_type": "error",
     "traceback": [
      "\u001b[0;31m---------------------------------------------------------------------------\u001b[0m\n",
      "\u001b[0;31mPanicException\u001b[0m                            Traceback (most recent call last)\n",
      "Cell \u001b[0;32mIn[57], line 1\u001b[0m\n",
      "\u001b[0;32m----> 1\u001b[0m grouped_df \u001b[38;5;241m=\u001b[39m \u001b[43mgrouped_df\u001b[49m\u001b[38;5;241;43m.\u001b[39;49m\u001b[43mwith_columns\u001b[49m\u001b[43m(\u001b[49m\n",
      "\u001b[1;32m      2\u001b[0m \u001b[43m    \u001b[49m\u001b[43mpl\u001b[49m\u001b[38;5;241;43m.\u001b[39;49m\u001b[43mmap_batches\u001b[49m\u001b[43m(\u001b[49m\n",
      "\u001b[1;32m      3\u001b[0m \u001b[43m        \u001b[49m\u001b[43m[\u001b[49m\u001b[38;5;124;43m\"\u001b[39;49m\u001b[38;5;124;43mtimes\u001b[39;49m\u001b[38;5;124;43m\"\u001b[39;49m\u001b[43m,\u001b[49m\u001b[43m \u001b[49m\u001b[38;5;124;43m\"\u001b[39;49m\u001b[38;5;124;43mconcentrations\u001b[39;49m\u001b[38;5;124;43m\"\u001b[39;49m\u001b[43m]\u001b[49m\u001b[43m,\u001b[49m\n",
      "\u001b[1;32m      4\u001b[0m \u001b[43m        \u001b[49m\u001b[38;5;28;43;01mlambda\u001b[39;49;00m\u001b[43m \u001b[49m\u001b[43mdf\u001b[49m\u001b[43m:\u001b[49m\u001b[43m \u001b[49m\u001b[43mdf\u001b[49m\u001b[38;5;241;43m.\u001b[39;49m\u001b[43mapply\u001b[49m\u001b[43m(\u001b[49m\u001b[38;5;28;43;01mlambda\u001b[39;49;00m\u001b[43m \u001b[49m\u001b[43mrow\u001b[49m\u001b[43m:\u001b[49m\u001b[43m \u001b[49m\u001b[43mnp\u001b[49m\u001b[38;5;241;43m.\u001b[39;49m\u001b[43mtrapezoid\u001b[49m\u001b[43m(\u001b[49m\u001b[43mrow\u001b[49m\u001b[43m[\u001b[49m\u001b[38;5;124;43m\"\u001b[39;49m\u001b[38;5;124;43mconcentrations\u001b[39;49m\u001b[38;5;124;43m\"\u001b[39;49m\u001b[43m]\u001b[49m\u001b[43m,\u001b[49m\u001b[43m \u001b[49m\u001b[43mrow\u001b[49m\u001b[43m[\u001b[49m\u001b[38;5;124;43m\"\u001b[39;49m\u001b[38;5;124;43mtimes\u001b[39;49m\u001b[38;5;124;43m\"\u001b[39;49m\u001b[43m]\u001b[49m\u001b[43m)\u001b[49m\u001b[43m,\u001b[49m\u001b[43m \u001b[49m\u001b[43maxis\u001b[49m\u001b[38;5;241;43m=\u001b[39;49m\u001b[38;5;241;43m1\u001b[39;49m\u001b[43m)\u001b[49m\n",
      "\u001b[1;32m      5\u001b[0m \u001b[43m    \u001b[49m\u001b[43m)\u001b[49m\u001b[38;5;241;43m.\u001b[39;49m\u001b[43malias\u001b[49m\u001b[43m(\u001b[49m\u001b[38;5;124;43m\"\u001b[39;49m\u001b[38;5;124;43mAUC\u001b[39;49m\u001b[38;5;124;43m\"\u001b[39;49m\u001b[43m)\u001b[49m\n",
      "\u001b[1;32m      6\u001b[0m \u001b[43m)\u001b[49m\n",
      "\n",
      "File \u001b[0;32m~/Library/Caches/pypoetry/virtualenvs/bioeq-wYo_JtsV-py3.11/lib/python3.11/site-packages/polars/dataframe/frame.py:9537\u001b[0m, in \u001b[0;36mDataFrame.with_columns\u001b[0;34m(self, *exprs, **named_exprs)\u001b[0m\n",
      "\u001b[1;32m   9391\u001b[0m \u001b[38;5;28;01mdef\u001b[39;00m\u001b[38;5;250m \u001b[39m\u001b[38;5;21mwith_columns\u001b[39m(\n",
      "\u001b[1;32m   9392\u001b[0m     \u001b[38;5;28mself\u001b[39m,\n",
      "\u001b[1;32m   9393\u001b[0m     \u001b[38;5;241m*\u001b[39mexprs: IntoExpr \u001b[38;5;241m|\u001b[39m Iterable[IntoExpr],\n",
      "\u001b[1;32m   9394\u001b[0m     \u001b[38;5;241m*\u001b[39m\u001b[38;5;241m*\u001b[39mnamed_exprs: IntoExpr,\n",
      "\u001b[1;32m   9395\u001b[0m ) \u001b[38;5;241m-\u001b[39m\u001b[38;5;241m>\u001b[39m DataFrame:\n",
      "\u001b[1;32m   9396\u001b[0m \u001b[38;5;250m    \u001b[39m\u001b[38;5;124;03m\"\"\"\u001b[39;00m\n",
      "\u001b[1;32m   9397\u001b[0m \u001b[38;5;124;03m    Add columns to this DataFrame.\u001b[39;00m\n",
      "\u001b[1;32m   9398\u001b[0m \n",
      "\u001b[0;32m   (...)\u001b[0m\n",
      "\u001b[1;32m   9535\u001b[0m \u001b[38;5;124;03m    └─────┴──────┴─────────────┘\u001b[39;00m\n",
      "\u001b[1;32m   9536\u001b[0m \u001b[38;5;124;03m    \"\"\"\u001b[39;00m\n",
      "\u001b[0;32m-> 9537\u001b[0m     \u001b[38;5;28;01mreturn\u001b[39;00m \u001b[38;5;28;43mself\u001b[39;49m\u001b[38;5;241;43m.\u001b[39;49m\u001b[43mlazy\u001b[49m\u001b[43m(\u001b[49m\u001b[43m)\u001b[49m\u001b[38;5;241;43m.\u001b[39;49m\u001b[43mwith_columns\u001b[49m\u001b[43m(\u001b[49m\u001b[38;5;241;43m*\u001b[39;49m\u001b[43mexprs\u001b[49m\u001b[43m,\u001b[49m\u001b[43m \u001b[49m\u001b[38;5;241;43m*\u001b[39;49m\u001b[38;5;241;43m*\u001b[39;49m\u001b[43mnamed_exprs\u001b[49m\u001b[43m)\u001b[49m\u001b[38;5;241;43m.\u001b[39;49m\u001b[43mcollect\u001b[49m\u001b[43m(\u001b[49m\u001b[43m_eager\u001b[49m\u001b[38;5;241;43m=\u001b[39;49m\u001b[38;5;28;43;01mTrue\u001b[39;49;00m\u001b[43m)\u001b[49m\n",
      "\n",
      "File \u001b[0;32m~/Library/Caches/pypoetry/virtualenvs/bioeq-wYo_JtsV-py3.11/lib/python3.11/site-packages/polars/lazyframe/frame.py:2056\u001b[0m, in \u001b[0;36mLazyFrame.collect\u001b[0;34m(self, type_coercion, _type_check, predicate_pushdown, projection_pushdown, simplify_expression, slice_pushdown, comm_subplan_elim, comm_subexpr_elim, cluster_with_columns, collapse_joins, no_optimization, streaming, engine, background, _check_order, _eager, **_kwargs)\u001b[0m\n",
      "\u001b[1;32m   2054\u001b[0m \u001b[38;5;66;03m# Only for testing purposes\u001b[39;00m\n",
      "\u001b[1;32m   2055\u001b[0m callback \u001b[38;5;241m=\u001b[39m _kwargs\u001b[38;5;241m.\u001b[39mget(\u001b[38;5;124m\"\u001b[39m\u001b[38;5;124mpost_opt_callback\u001b[39m\u001b[38;5;124m\"\u001b[39m, callback)\n",
      "\u001b[0;32m-> 2056\u001b[0m \u001b[38;5;28;01mreturn\u001b[39;00m wrap_df(\u001b[43mldf\u001b[49m\u001b[38;5;241;43m.\u001b[39;49m\u001b[43mcollect\u001b[49m\u001b[43m(\u001b[49m\u001b[43mcallback\u001b[49m\u001b[43m)\u001b[49m)\n",
      "\n",
      "\u001b[0;31mPanicException\u001b[0m: python function failed: 'list' object has no attribute 'apply'"
     ]
    }
   ],
   "source": [
    "grouped_df = grouped_df.with_columns(\n",
    "    pl.map_batches(\n",
    "        [\"times\", \"concentrations\"],\n",
    "        lambda df: df.apply(\n",
    "            lambda row: np.trapezoid(row[\"concentrations\"], row[\"times\"]), axis=1\n",
    "        ),\n",
    "    ).alias(\"AUC\")\n",
    ")"
   ]
  },
  {
   "cell_type": "code",
   "execution_count": null,
   "metadata": {
    "vscode": {
     "languageId": "python"
    }
   },
   "outputs": [],
   "source": [
    "# Step 4: Drop the temporary list columns and return the final DataFrame.\n",
    "grouped_df = grouped_df.drop([\"times\", \"concentrations\"])"
   ]
  },
  {
   "cell_type": "code",
   "execution_count": 40,
   "metadata": {
    "vscode": {
     "languageId": "python"
    }
   },
   "outputs": [
    {
     "data": {
      "text/html": [
       "<div><style>\n",
       ".dataframe > thead > tr,\n",
       ".dataframe > tbody > tr {\n",
       "  text-align: right;\n",
       "  white-space: pre-wrap;\n",
       "}\n",
       "</style>\n",
       "<small>shape: (5, 6)</small><table border=\"1\" class=\"dataframe\"><thead><tr><th>subject_id</th><th>period</th><th>sequence</th><th>formulation</th><th>time</th><th>concentration</th></tr><tr><td>i64</td><td>i64</td><td>str</td><td>str</td><td>f64</td><td>f64</td></tr></thead><tbody><tr><td>1</td><td>1</td><td>&quot;TR&quot;</td><td>&quot;Reference&quot;</td><td>0.0</td><td>49.449766</td></tr><tr><td>1</td><td>1</td><td>&quot;TR&quot;</td><td>&quot;Reference&quot;</td><td>0.5</td><td>39.455472</td></tr><tr><td>1</td><td>1</td><td>&quot;TR&quot;</td><td>&quot;Reference&quot;</td><td>1.0</td><td>30.800394</td></tr><tr><td>1</td><td>1</td><td>&quot;TR&quot;</td><td>&quot;Reference&quot;</td><td>2.0</td><td>19.762422</td></tr><tr><td>1</td><td>1</td><td>&quot;TR&quot;</td><td>&quot;Reference&quot;</td><td>4.0</td><td>5.849937</td></tr></tbody></table></div>"
      ],
      "text/plain": [
       "shape: (5, 6)\n",
       "┌────────────┬────────┬──────────┬─────────────┬──────┬───────────────┐\n",
       "│ subject_id ┆ period ┆ sequence ┆ formulation ┆ time ┆ concentration │\n",
       "│ ---        ┆ ---    ┆ ---      ┆ ---         ┆ ---  ┆ ---           │\n",
       "│ i64        ┆ i64    ┆ str      ┆ str         ┆ f64  ┆ f64           │\n",
       "╞════════════╪════════╪══════════╪═════════════╪══════╪═══════════════╡\n",
       "│ 1          ┆ 1      ┆ TR       ┆ Reference   ┆ 0.0  ┆ 49.449766     │\n",
       "│ 1          ┆ 1      ┆ TR       ┆ Reference   ┆ 0.5  ┆ 39.455472     │\n",
       "│ 1          ┆ 1      ┆ TR       ┆ Reference   ┆ 1.0  ┆ 30.800394     │\n",
       "│ 1          ┆ 1      ┆ TR       ┆ Reference   ┆ 2.0  ┆ 19.762422     │\n",
       "│ 1          ┆ 1      ┆ TR       ┆ Reference   ┆ 4.0  ┆ 5.849937      │\n",
       "└────────────┴────────┴──────────┴─────────────┴──────┴───────────────┘"
      ]
     },
     "execution_count": null,
     "metadata": {},
     "output_type": "execute_result"
    }
   ],
   "source": [
    "df_simdata.head()"
   ]
  },
  {
   "cell_type": "code",
   "execution_count": 41,
   "metadata": {
    "vscode": {
     "languageId": "python"
    }
   },
   "outputs": [
    {
     "name": "stdout",
     "output_type": "stream",
     "text": [
      "49.44976551083605\n",
      "39.45547222602065\n",
      "30.800393819376495\n",
      "19.762422181837874\n",
      "5.849937318012263\n",
      "2.365206238120429\n",
      "0.0\n"
     ]
    }
   ],
   "source": [
    "df_single_case = df_simdata.filter(\n",
    "    (pl.col(\"subject_id\") == 1)\n",
    "    & (pl.col(\"period\") == 1)\n",
    "    & (pl.col(\"formulation\") == \"Reference\")\n",
    ")\n",
    "\n",
    "df_single_case_small = df_single_case.select(pl.col(\"time\"), pl.col(\"concentration\"))\n",
    "\n",
    "row_num = df_single_case_small[\"concentration\"].len()\n",
    "\n",
    "for conc in df_single_case_small[\"concentration\"]:\n",
    "    print(conc)"
   ]
  },
  {
   "cell_type": "code",
   "execution_count": 10,
   "metadata": {
    "vscode": {
     "languageId": "python"
    }
   },
   "outputs": [
    {
     "data": {
      "text/plain": [
       "7"
      ]
     },
     "execution_count": null,
     "metadata": {},
     "output_type": "execute_result"
    }
   ],
   "source": [
    "row_num"
   ]
  },
  {
   "cell_type": "code",
   "execution_count": 28,
   "metadata": {
    "vscode": {
     "languageId": "python"
    }
   },
   "outputs": [
    {
     "data": {
      "text/html": [
       "<div><style>\n",
       ".dataframe > thead > tr,\n",
       ".dataframe > tbody > tr {\n",
       "  text-align: right;\n",
       "  white-space: pre-wrap;\n",
       "}\n",
       "</style>\n",
       "<small>shape: (1, 1)</small><table border=\"1\" class=\"dataframe\"><thead><tr><th>Sequence</th></tr><tr><td>str</td></tr></thead><tbody><tr><td>&quot;TR&quot;</td></tr></tbody></table></div>"
      ],
      "text/plain": [
       "shape: (1, 1)\n",
       "┌──────────┐\n",
       "│ Sequence │\n",
       "│ ---      │\n",
       "│ str      │\n",
       "╞══════════╡\n",
       "│ TR       │\n",
       "└──────────┘"
      ]
     },
     "execution_count": null,
     "metadata": {},
     "output_type": "execute_result"
    }
   ],
   "source": [
    "df_simdata.select(\"Sequence\").unique().sort(by=\"Sequence\")"
   ]
  },
  {
   "cell_type": "code",
   "execution_count": null,
   "metadata": {
    "vscode": {
     "languageId": "python"
    }
   },
   "outputs": [],
   "source": []
  },
  {
   "cell_type": "code",
   "execution_count": null,
   "metadata": {
    "vscode": {
     "languageId": "python"
    }
   },
   "outputs": [],
   "source": [
    "df_simdata = pl.read_csv(\n",
    "    source=\"https://raw.githubusercontent.com/statist-bhfz/bioeq/refs/heads/master/testdata.csv\",\n",
    "    separator=\";\",\n",
    "    truncate_ragged_lines=True,\n",
    ")\n",
    "\n",
    "\n",
    "df"
   ]
  },
  {
   "cell_type": "code",
   "execution_count": null,
   "metadata": {
    "vscode": {
     "languageId": "python"
    }
   },
   "outputs": [],
   "source": []
  },
  {
   "cell_type": "code",
   "execution_count": null,
   "metadata": {
    "vscode": {
     "languageId": "python"
    }
   },
   "outputs": [],
   "source": [
    "df_simdata = df.with_columns(  # with_columns doesn't modify cols in place, so has to be casted back to df\n",
    "    pl.col(\"subj\").cast(dtype=pl.Int64),\n",
    "    pl.col(\"seq\").cast(dtype=pl.Int64),\n",
    "    pl.col(\"prd\").cast(dtype=pl.Int64),\n",
    "    pl.col(\"drug\").cast(dtype=pl.String),\n",
    "    pl.col(\"time\").cast(dtype=pl.String).str.replace(r\",\", \".\").cast(dtype=pl.Float64),\n",
    "    pl.col(\"conc\").cast(dtype=pl.String).str.replace(r\",\", \".\").cast(dtype=pl.Float64),\n",
    ")"
   ]
  },
  {
   "cell_type": "code",
   "execution_count": null,
   "metadata": {
    "vscode": {
     "languageId": "python"
    }
   },
   "outputs": [],
   "source": []
  },
  {
   "cell_type": "code",
   "execution_count": null,
   "metadata": {
    "vscode": {
     "languageId": "python"
    }
   },
   "outputs": [],
   "source": []
  },
  {
   "cell_type": "code",
   "execution_count": null,
   "metadata": {
    "vscode": {
     "languageId": "python"
    }
   },
   "outputs": [],
   "source": [
    "df_simdata.columns"
   ]
  },
  {
   "cell_type": "code",
   "execution_count": 36,
   "metadata": {
    "vscode": {
     "languageId": "python"
    }
   },
   "outputs": [],
   "source": [
    "subject_col = \"subj\"\n",
    "time_col = \"time\"\n",
    "conc_col = \"conc\""
   ]
  },
  {
   "cell_type": "code",
   "execution_count": null,
   "metadata": {
    "vscode": {
     "languageId": "python"
    }
   },
   "outputs": [],
   "source": [
    "# Validate required columns\n",
    "\n",
    "df = df_simdata.clone()\n",
    "df = df.sort([subject_col, time_col]).clone()"
   ]
  },
  {
   "cell_type": "code",
   "execution_count": null,
   "metadata": {
    "vscode": {
     "languageId": "python"
    }
   },
   "outputs": [],
   "source": [
    "# Compute AUC for each group\n",
    "auc_df = df.group_by(subject_col).agg(\n",
    "    pl.struct([time_col, conc_col])\n",
    "    .apply(\n",
    "        lambda rows: np.trapz(\n",
    "            [row[conc_col] for row in rows],\n",
    "            [row[time_col] for row in rows],\n",
    "        )\n",
    "    )\n",
    "    .alias(\"AUC\")\n",
    ")"
   ]
  },
  {
   "cell_type": "markdown",
   "metadata": {},
   "source": []
  },
  {
   "cell_type": "code",
   "execution_count": null,
   "metadata": {
    "vscode": {
     "languageId": "python"
    }
   },
   "outputs": [],
   "source": [
    "# The below is probably something that has to be developed in parallel to this bioeq package, it's a whole separate entity\n",
    "\n",
    "# In doing the data validation, what we want is probably something like:\n",
    "\n",
    "# Parse\n",
    "\n",
    "# 1. State all expected raw colnames and types or if applicable, expected categorical values\n",
    "# 2. State raw col to parsed col relationship\n",
    "# 3. See if there are problematic values\n",
    "# 4. Resolve problematic values and create parsed cols\n",
    "# 5. Check that they have been resolved\n",
    "# 6. Assign the correct types to all the parsed cols once we're happy with col vals\n",
    "\n",
    "# Validate\n",
    "\n",
    "# 7. Check that all col values are reasonable to human judgement (pointblank in R)\n",
    "# 8. Change those that aren't or filter out, and proceed with cleaned data (get_data_pass() in R)\n",
    "\n",
    "# Derive\n",
    "\n",
    "# 9. Create a list of cols to derive and which cols they are derived from\n",
    "# 10. Derive the columns in the dataframe\n",
    "# 11. Check that we derived all the columns that we said we would\n",
    "# 12. Check that the col vals now have reasonable values, and if not either filter or replace (pointblank in R)"
   ]
  },
  {
   "cell_type": "code",
   "execution_count": null,
   "metadata": {
    "vscode": {
     "languageId": "python"
    }
   },
   "outputs": [],
   "source": []
  },
  {
   "cell_type": "code",
   "execution_count": null,
   "metadata": {
    "vscode": {
     "languageId": "python"
    }
   },
   "outputs": [],
   "source": [
    "cross"
   ]
  },
  {
   "cell_type": "code",
   "execution_count": null,
   "metadata": {
    "vscode": {
     "languageId": "python"
    }
   },
   "outputs": [],
   "source": [
    "Crossover2x2()"
   ]
  },
  {
   "cell_type": "code",
   "execution_count": null,
   "metadata": {
    "vscode": {
     "languageId": "python"
    }
   },
   "outputs": [],
   "source": []
  },
  {
   "cell_type": "code",
   "execution_count": null,
   "metadata": {
    "vscode": {
     "languageId": "python"
    }
   },
   "outputs": [],
   "source": []
  }
 ],
 "metadata": {
  "language_info": {
   "name": "plaintext"
  }
 },
 "nbformat": 4,
 "nbformat_minor": 2
}
