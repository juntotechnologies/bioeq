{
 "cells": [
  {
   "cell_type": "code",
   "execution_count": 1,
   "metadata": {
    "vscode": {
     "languageId": "python"
    }
   },
   "outputs": [],
   "source": [
    "import bioeq\n",
    "import polars as pl\n",
    "from bioeq import Crossover2x2"
   ]
  },
  {
   "cell_type": "code",
   "execution_count": 2,
   "metadata": {
    "vscode": {
     "languageId": "python"
    }
   },
   "outputs": [],
   "source": [
    "# Load Simdata\n",
    "\n",
    "df_simdata = pl.read_csv(source='https://raw.githubusercontent.com/shaunporwal/bioeq/refs/heads/main/simdata/bioeq_simdata_1.csv')"
   ]
  },
  {
   "cell_type": "code",
   "execution_count": 3,
   "metadata": {
    "vscode": {
     "languageId": "python"
    }
   },
   "outputs": [
    {
     "data": {
      "text/plain": [
       "'0.1.0.1'"
      ]
     },
     "execution_count": null,
     "metadata": {},
     "output_type": "execute_result"
    }
   ],
   "source": [
    "bioeq.__version__"
   ]
  },
  {
   "cell_type": "code",
   "execution_count": 4,
   "metadata": {
    "vscode": {
     "languageId": "python"
    }
   },
   "outputs": [
    {
     "data": {
      "text/plain": [
       "['SubjectID',\n",
       " 'Period',\n",
       " 'Sequence',\n",
       " 'Formulation',\n",
       " 'Time (hr)',\n",
       " 'Concentration (ng/mL)']"
      ]
     },
     "execution_count": null,
     "metadata": {},
     "output_type": "execute_result"
    }
   ],
   "source": [
    "df_simdata.columns"
   ]
  },
  {
   "cell_type": "code",
   "execution_count": 8,
   "metadata": {
    "vscode": {
     "languageId": "python"
    }
   },
   "outputs": [
    {
     "data": {
      "text/html": [
       "<div><style>\n",
       ".dataframe > thead > tr,\n",
       ".dataframe > tbody > tr {\n",
       "  text-align: right;\n",
       "  white-space: pre-wrap;\n",
       "}\n",
       "</style>\n",
       "<small>shape: (5, 6)</small><table border=\"1\" class=\"dataframe\"><thead><tr><th>SubjectID</th><th>Period</th><th>Sequence</th><th>Formulation</th><th>Time (hr)</th><th>Concentration (ng/mL)</th></tr><tr><td>i64</td><td>i64</td><td>str</td><td>str</td><td>f64</td><td>f64</td></tr></thead><tbody><tr><td>1</td><td>1</td><td>&quot;TR&quot;</td><td>&quot;Reference&quot;</td><td>0.0</td><td>49.449766</td></tr><tr><td>1</td><td>1</td><td>&quot;TR&quot;</td><td>&quot;Reference&quot;</td><td>0.5</td><td>39.455472</td></tr><tr><td>1</td><td>1</td><td>&quot;TR&quot;</td><td>&quot;Reference&quot;</td><td>1.0</td><td>30.800394</td></tr><tr><td>1</td><td>1</td><td>&quot;TR&quot;</td><td>&quot;Reference&quot;</td><td>2.0</td><td>19.762422</td></tr><tr><td>1</td><td>1</td><td>&quot;TR&quot;</td><td>&quot;Reference&quot;</td><td>4.0</td><td>5.849937</td></tr></tbody></table></div>"
      ],
      "text/plain": [
       "shape: (5, 6)\n",
       "┌───────────┬────────┬──────────┬─────────────┬───────────┬───────────────────────┐\n",
       "│ SubjectID ┆ Period ┆ Sequence ┆ Formulation ┆ Time (hr) ┆ Concentration (ng/mL) │\n",
       "│ ---       ┆ ---    ┆ ---      ┆ ---         ┆ ---       ┆ ---                   │\n",
       "│ i64       ┆ i64    ┆ str      ┆ str         ┆ f64       ┆ f64                   │\n",
       "╞═══════════╪════════╪══════════╪═════════════╪═══════════╪═══════════════════════╡\n",
       "│ 1         ┆ 1      ┆ TR       ┆ Reference   ┆ 0.0       ┆ 49.449766             │\n",
       "│ 1         ┆ 1      ┆ TR       ┆ Reference   ┆ 0.5       ┆ 39.455472             │\n",
       "│ 1         ┆ 1      ┆ TR       ┆ Reference   ┆ 1.0       ┆ 30.800394             │\n",
       "│ 1         ┆ 1      ┆ TR       ┆ Reference   ┆ 2.0       ┆ 19.762422             │\n",
       "│ 1         ┆ 1      ┆ TR       ┆ Reference   ┆ 4.0       ┆ 5.849937              │\n",
       "└───────────┴────────┴──────────┴─────────────┴───────────┴───────────────────────┘"
      ]
     },
     "execution_count": null,
     "metadata": {},
     "output_type": "execute_result"
    }
   ],
   "source": [
    "df_simdata.head()"
   ]
  },
  {
   "cell_type": "code",
   "execution_count": 30,
   "metadata": {
    "vscode": {
     "languageId": "python"
    }
   },
   "outputs": [
    {
     "name": "stdout",
     "output_type": "stream",
     "text": [
      "49.44976551083605\n",
      "39.45547222602065\n",
      "30.800393819376495\n",
      "19.762422181837874\n",
      "5.849937318012263\n",
      "2.365206238120429\n",
      "0.0\n"
     ]
    }
   ],
   "source": [
    "df_single_case = df_simdata.filter((pl.col(\"SubjectID\")==1) & (pl.col(\"Period\")==1) & (pl.col(\"Formulation\")==\"Reference\"))\n",
    "\n",
    "df_single_case_small = df_single_case.select(pl.col('Time (hr)'),pl.col('Concentration (ng/mL)'))\n",
    "\n",
    "row_num = df_single_case_small['Concentration (ng/mL)'].len()\n",
    "\n",
    "for conc in df_single_case_small['Concentration (ng/mL)']:\n",
    "\n",
    "    print(conc)"
   ]
  },
  {
   "cell_type": "code",
   "execution_count": 25,
   "metadata": {
    "vscode": {
     "languageId": "python"
    }
   },
   "outputs": [],
   "source": [
    "\n"
   ]
  },
  {
   "cell_type": "code",
   "execution_count": null,
   "metadata": {
    "vscode": {
     "languageId": "python"
    }
   },
   "outputs": [],
   "source": [
    "df_simdata = pl.read_csv(\n",
    "    source=\"https://raw.githubusercontent.com/statist-bhfz/bioeq/refs/heads/master/testdata.csv\",\n",
    "    separator=\";\",\n",
    "    truncate_ragged_lines=True,\n",
    ")\n",
    "\n",
    "df_simdata = df.with_columns( # with_columns doesn't modify cols in place, so has to be casted back to df\n",
    "    pl.col(\"subj\").cast(dtype=pl.Int64),\n",
    "    pl.col(\"seq\").cast(dtype=pl.Int64),\n",
    "    pl.col(\"prd\").cast(dtype=pl.Int64),\n",
    "    pl.col(\"drug\").cast(dtype=pl.String),\n",
    "    pl.col(\"time\").cast(dtype=pl.String).str.replace(r\",\",\".\").cast(dtype=pl.Float64),\n",
    "    pl.col(\"conc\").cast(dtype=pl.String).str.replace(r\",\",\".\").cast(dtype=pl.Float64)\n",
    ")\n",
    "\n",
    "df"
   ]
  },
  {
   "cell_type": "code",
   "execution_count": null,
   "metadata": {
    "vscode": {
     "languageId": "python"
    }
   },
   "outputs": [],
   "source": [
    "df_simdata.columns\n"
   ]
  },
  {
   "cell_type": "code",
   "execution_count": 36,
   "metadata": {
    "vscode": {
     "languageId": "python"
    }
   },
   "outputs": [],
   "source": [
    "subject_col = 'subj'\n",
    "time_col = 'time'\n",
    "conc_col = 'conc'\n"
   ]
  },
  {
   "cell_type": "code",
   "execution_count": null,
   "metadata": {
    "vscode": {
     "languageId": "python"
    }
   },
   "outputs": [],
   "source": [
    "# Validate required columns\n",
    "\n",
    "df = df_simdata.clone()\n",
    "df = df.sort([subject_col, time_col]).clone()\n",
    "\n",
    "df"
   ]
  },
  {
   "cell_type": "code",
   "execution_count": null,
   "metadata": {
    "vscode": {
     "languageId": "python"
    }
   },
   "outputs": [],
   "source": [
    "# Compute AUC for each group\n",
    "auc_df = df.group_by(subject_col).agg(\n",
    "    pl.struct([time_col, conc_col])\n",
    "    .apply(\n",
    "        lambda rows: np.trapz(\n",
    "            [row[conc_col] for row in rows],\n",
    "            [row[time_col] for row in rows],\n",
    "        )\n",
    "    )\n",
    "    .alias(\"AUC\")\n",
    ")"
   ]
  },
  {
   "cell_type": "markdown",
   "metadata": {},
   "source": []
  },
  {
   "cell_type": "code",
   "execution_count": null,
   "metadata": {
    "vscode": {
     "languageId": "python"
    }
   },
   "outputs": [],
   "source": [
    "\n",
    "# The below is probably something that has to be developed in parallel to this bioeq package, it's a whole separate entity\n",
    "\n",
    "# In doing the data validation, what we want is probably something like:\n",
    "\n",
    "# Parse\n",
    "\n",
    "# 1. State all expected raw colnames and types or if applicable, expected categorical values\n",
    "# 2. State raw col to parsed col relationship\n",
    "# 3. See if there are problematic values\n",
    "# 4. Resolve problematic values and create parsed cols\n",
    "# 5. Check that they have been resolved\n",
    "# 6. Assign the correct types to all the parsed cols once we're happy with col vals\n",
    "\n",
    "# Validate\n",
    "\n",
    "# 7. Check that all col values are reasonable to human judgement (pointblank in R)\n",
    "# 8. Change those that aren't or filter out, and proceed with cleaned data (get_data_pass() in R)\n",
    "\n",
    "# Derive\n",
    "\n",
    "# 9. Create a list of cols to derive and which cols they are derived from\n",
    "# 10. Derive the columns in the dataframe\n",
    "# 11. Check that we derived all the columns that we said we would\n",
    "# 12. Check that the col vals now have reasonable values, and if not either filter or replace (pointblank in R)\n"
   ]
  }
 ],
 "metadata": {
  "language_info": {
   "name": "plaintext"
  }
 },
 "nbformat": 4,
 "nbformat_minor": 2
}
