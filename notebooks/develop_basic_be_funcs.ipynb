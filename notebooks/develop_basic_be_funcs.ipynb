{
 "cells": [
  {
   "cell_type": "code",
   "execution_count": 1,
   "metadata": {
    "vscode": {
     "languageId": "python"
    }
   },
   "outputs": [],
   "source": [
    "import bioeq\n",
    "import polars as pl\n",
    "import statsmodels\n",
    "from bioeq import Crossover2x2\n",
    "import numpy as np"
   ]
  },
  {
   "cell_type": "code",
   "execution_count": 2,
   "metadata": {
    "vscode": {
     "languageId": "python"
    }
   },
   "outputs": [],
   "source": [
    "# Load Simdata\n",
    "\n",
    "df_simdata = pl.read_csv(\n",
    "    source=\"https://raw.githubusercontent.com/shaunporwal/bioeq/refs/heads/main/simdata/bioeq_simdata_1.csv\"\n",
    ")"
   ]
  },
  {
   "cell_type": "code",
   "execution_count": 3,
   "metadata": {
    "vscode": {
     "languageId": "python"
    }
   },
   "outputs": [
    {
     "data": {
      "text/plain": [
       "'0.1.1'"
      ]
     },
     "execution_count": null,
     "metadata": {},
     "output_type": "execute_result"
    }
   ],
   "source": [
    "bioeq.__version__"
   ]
  },
  {
   "cell_type": "code",
   "execution_count": 4,
   "metadata": {
    "vscode": {
     "languageId": "python"
    }
   },
   "outputs": [
    {
     "data": {
      "text/plain": [
       "['SubjectID',\n",
       " 'Period',\n",
       " 'Sequence',\n",
       " 'Formulation',\n",
       " 'Time (hr)',\n",
       " 'Concentration (ng/mL)']"
      ]
     },
     "execution_count": null,
     "metadata": {},
     "output_type": "execute_result"
    }
   ],
   "source": [
    "df_simdata.columns"
   ]
  },
  {
   "cell_type": "code",
   "execution_count": 5,
   "metadata": {
    "vscode": {
     "languageId": "python"
    }
   },
   "outputs": [],
   "source": [
    "df_simdata = df_simdata.rename(\n",
    "    {\n",
    "        \"SubjectID\": \"subject_id\",\n",
    "        \"Period\": \"period\",\n",
    "        \"Sequence\": \"sequence\",\n",
    "        \"Formulation\": \"formulation\",\n",
    "        \"Time (hr)\": \"time\",\n",
    "        \"Concentration (ng/mL)\": \"concentration\",\n",
    "    }\n",
    ")"
   ]
  },
  {
   "cell_type": "code",
   "execution_count": 6,
   "metadata": {
    "vscode": {
     "languageId": "python"
    }
   },
   "outputs": [
    {
     "data": {
      "text/plain": [
       "['subject_id', 'period', 'sequence', 'formulation', 'time', 'concentration']"
      ]
     },
     "execution_count": null,
     "metadata": {},
     "output_type": "execute_result"
    }
   ],
   "source": [
    "df_simdata.columns"
   ]
  },
  {
   "cell_type": "code",
   "execution_count": 7,
   "metadata": {
    "vscode": {
     "languageId": "python"
    }
   },
   "outputs": [
    {
     "name": "stdout",
     "output_type": "stream",
     "text": [
      "shape: (10, 11)\n",
      "┌────────────┬────────┬──────────┬─────────────┬───┬───────────┬──────┬──────────┬──────────┐\n",
      "│ subject_id ┆ period ┆ sequence ┆ formulation ┆ … ┆ Cmax      ┆ Tmax ┆ log_AUC  ┆ log_Cmax │\n",
      "│ ---        ┆ ---    ┆ ---      ┆ ---         ┆   ┆ ---       ┆ ---  ┆ ---      ┆ ---      │\n",
      "│ i64        ┆ i64    ┆ str      ┆ str         ┆   ┆ f64       ┆ f64  ┆ f64      ┆ f64      │\n",
      "╞════════════╪════════╪══════════╪═════════════╪═══╪═══════════╪══════╪══════════╪══════════╡\n",
      "│ 1          ┆ 1      ┆ TR       ┆ Reference   ┆ … ┆ 49.449766 ┆ 0.0  ┆ 4.617735 ┆ 3.900957 │\n",
      "│ 1          ┆ 2      ┆ TR       ┆ Test        ┆ … ┆ 49.507197 ┆ 0.0  ┆ 4.610431 ┆ 3.902118 │\n",
      "│ 2          ┆ 1      ┆ TR       ┆ Reference   ┆ … ┆ 49.571954 ┆ 0.0  ┆ 4.605317 ┆ 3.903425 │\n",
      "│ 2          ┆ 2      ┆ TR       ┆ Test        ┆ … ┆ 50.394233 ┆ 0.0  ┆ 4.629355 ┆ 3.919877 │\n",
      "│ 3          ┆ 1      ┆ TR       ┆ Reference   ┆ … ┆ 50.948843 ┆ 0.0  ┆ 4.599128 ┆ 3.930822 │\n",
      "│ 3          ┆ 2      ┆ TR       ┆ Test        ┆ … ┆ 51.524242 ┆ 0.0  ┆ 4.570016 ┆ 3.942052 │\n",
      "│ 4          ┆ 1      ┆ TR       ┆ Reference   ┆ … ┆ 49.884352 ┆ 0.0  ┆ 4.614153 ┆ 3.909707 │\n",
      "│ 4          ┆ 2      ┆ TR       ┆ Test        ┆ … ┆ 48.23696  ┆ 0.0  ┆ 4.647919 ┆ 3.876126 │\n",
      "│ 5          ┆ 1      ┆ TR       ┆ Reference   ┆ … ┆ 50.69844  ┆ 0.0  ┆ 4.650154 ┆ 3.925895 │\n",
      "│ 5          ┆ 2      ┆ TR       ┆ Test        ┆ … ┆ 49.230332 ┆ 0.0  ┆ 4.594797 ┆ 3.89651  │\n",
      "└────────────┴────────┴──────────┴─────────────┴───┴───────────┴──────┴──────────┴──────────┘\n"
     ]
    }
   ],
   "source": [
    "# Instantiate the class with the correct column names\n",
    "crossover = Crossover2x2(\n",
    "    data=df_simdata,\n",
    "    subject_col=\"subject_id\",\n",
    "    seq_col=\"sequence\",\n",
    "    period_col=\"period\",\n",
    "    time_col=\"time\",\n",
    "    conc_col=\"concentration\",\n",
    "    form_col=\"formulation\",\n",
    ")\n",
    "\n",
    "# Test the AUC calculation function\n",
    "auc_results = crossover.df_params\n",
    "print(auc_results)"
   ]
  },
  {
   "cell_type": "code",
   "execution_count": 8,
   "metadata": {
    "vscode": {
     "languageId": "python"
    }
   },
   "outputs": [
    {
     "name": "stdout",
     "output_type": "stream",
     "text": [
      "Formulation levels: ['Reference' 'Test']\n",
      "Period levels: [1 2]\n",
      "Sequence levels: ['TR']\n",
      "Error: Sequence is confounded (only one level). Provide data with ≥2 sequence levels.\n"
     ]
    }
   ],
   "source": [
    "crossover.run_anova(\"log_AUC\")"
   ]
  },
  {
   "cell_type": "code",
   "execution_count": 9,
   "metadata": {
    "vscode": {
     "languageId": "python"
    }
   },
   "outputs": [
    {
     "name": "stdout",
     "output_type": "stream",
     "text": [
      "Formulation levels: ['Reference' 'Test']\n",
      "Period levels: [1 2]\n",
      "Sequence levels: ['TR']\n",
      "Error: Sequence is confounded (only one level). Provide data with ≥2 sequence levels.\n"
     ]
    }
   ],
   "source": [
    "crossover.run_nlme(\"log_AUC\")"
   ]
  },
  {
   "cell_type": "code",
   "execution_count": 10,
   "metadata": {
    "vscode": {
     "languageId": "python"
    }
   },
   "outputs": [
    {
     "ename": "NameError",
     "evalue": "name 'subject_col' is not defined",
     "output_type": "error",
     "traceback": [
      "\u001b[0;31m---------------------------------------------------------------------------\u001b[0m\n",
      "\u001b[0;31mNameError\u001b[0m                                 Traceback (most recent call last)\n",
      "Cell \u001b[0;32mIn[10], line 2\u001b[0m\n",
      "\u001b[1;32m      1\u001b[0m \u001b[38;5;66;03m# Step 1: Sort the DataFrame to ensure correct time order within each group.\u001b[39;00m\n",
      "\u001b[0;32m----> 2\u001b[0m df_sorted \u001b[38;5;241m=\u001b[39m df_simdata\u001b[38;5;241m.\u001b[39msort([\u001b[43msubject_col\u001b[49m, period_col, form_col, time_col])\n",
      "\n",
      "\u001b[0;31mNameError\u001b[0m: name 'subject_col' is not defined"
     ]
    }
   ],
   "source": [
    "# Step 1: Sort the DataFrame to ensure correct time order within each group.\n",
    "df_sorted = df_simdata.sort([subject_col, period_col, form_col, time_col])"
   ]
  },
  {
   "cell_type": "code",
   "execution_count": null,
   "metadata": {
    "vscode": {
     "languageId": "python"
    }
   },
   "outputs": [],
   "source": [
    "df_sorted.columns"
   ]
  },
  {
   "cell_type": "code",
   "execution_count": 11,
   "metadata": {
    "vscode": {
     "languageId": "python"
    }
   },
   "outputs": [],
   "source": [
    "# Step 2: Group by subject, period, and formulation, aggregating time and concentration into lists.\n",
    "grouped_df = df_sorted.group_by([subject_col, period_col, form_col]).agg(\n",
    "    [\n",
    "        pl.col(time_col).alias(\"times\"),\n",
    "        pl.col(conc_col).alias(\"concentrations\"),\n",
    "    ]\n",
    ")"
   ]
  },
  {
   "cell_type": "code",
   "execution_count": null,
   "metadata": {
    "vscode": {
     "languageId": "python"
    }
   },
   "outputs": [],
   "source": [
    "grouped_df"
   ]
  },
  {
   "cell_type": "code",
   "execution_count": 13,
   "metadata": {
    "vscode": {
     "languageId": "python"
    }
   },
   "outputs": [],
   "source": []
  },
  {
   "cell_type": "code",
   "execution_count": null,
   "metadata": {
    "vscode": {
     "languageId": "python"
    }
   },
   "outputs": [],
   "source": [
    "grouped_df"
   ]
  },
  {
   "cell_type": "code",
   "execution_count": null,
   "metadata": {
    "vscode": {
     "languageId": "python"
    }
   },
   "outputs": [],
   "source": [
    "df_simdata.head()"
   ]
  },
  {
   "cell_type": "code",
   "execution_count": null,
   "metadata": {
    "vscode": {
     "languageId": "python"
    }
   },
   "outputs": [],
   "source": [
    "df_single_case = df_simdata.filter(\n",
    "    (pl.col(\"subject_id\") == 1)\n",
    "    & (pl.col(\"period\") == 1)\n",
    "    & (pl.col(\"formulation\") == \"Reference\")\n",
    ")\n",
    "\n",
    "df_single_case_small = df_single_case.select(pl.col(\"time\"), pl.col(\"concentration\"))\n",
    "\n",
    "row_num = df_single_case_small[\"concentration\"].len()\n",
    "\n",
    "for conc in df_single_case_small[\"concentration\"]:\n",
    "    print(conc)"
   ]
  },
  {
   "cell_type": "code",
   "execution_count": null,
   "metadata": {
    "vscode": {
     "languageId": "python"
    }
   },
   "outputs": [],
   "source": [
    "row_num"
   ]
  },
  {
   "cell_type": "code",
   "execution_count": null,
   "metadata": {
    "vscode": {
     "languageId": "python"
    }
   },
   "outputs": [],
   "source": [
    "df_simdata.select(\"Sequence\").unique().sort(by=\"Sequence\")"
   ]
  },
  {
   "cell_type": "code",
   "execution_count": null,
   "metadata": {
    "vscode": {
     "languageId": "python"
    }
   },
   "outputs": [],
   "source": []
  },
  {
   "cell_type": "code",
   "execution_count": null,
   "metadata": {
    "vscode": {
     "languageId": "python"
    }
   },
   "outputs": [],
   "source": [
    "df_simdata = pl.read_csv(\n",
    "    source=\"https://raw.githubusercontent.com/statist-bhfz/bioeq/refs/heads/master/testdata.csv\",\n",
    "    separator=\";\",\n",
    "    truncate_ragged_lines=True,\n",
    ")\n",
    "\n",
    "\n",
    "df"
   ]
  },
  {
   "cell_type": "code",
   "execution_count": null,
   "metadata": {
    "vscode": {
     "languageId": "python"
    }
   },
   "outputs": [],
   "source": []
  },
  {
   "cell_type": "code",
   "execution_count": null,
   "metadata": {
    "vscode": {
     "languageId": "python"
    }
   },
   "outputs": [],
   "source": [
    "df_simdata = df.with_columns(  # with_columns doesn't modify cols in place, so has to be casted back to df\n",
    "    pl.col(\"subj\").cast(dtype=pl.Int64),\n",
    "    pl.col(\"seq\").cast(dtype=pl.Int64),\n",
    "    pl.col(\"prd\").cast(dtype=pl.Int64),\n",
    "    pl.col(\"drug\").cast(dtype=pl.String),\n",
    "    pl.col(\"time\").cast(dtype=pl.String).str.replace(r\",\", \".\").cast(dtype=pl.Float64),\n",
    "    pl.col(\"conc\").cast(dtype=pl.String).str.replace(r\",\", \".\").cast(dtype=pl.Float64),\n",
    ")"
   ]
  },
  {
   "cell_type": "code",
   "execution_count": null,
   "metadata": {
    "vscode": {
     "languageId": "python"
    }
   },
   "outputs": [],
   "source": []
  },
  {
   "cell_type": "code",
   "execution_count": null,
   "metadata": {
    "vscode": {
     "languageId": "python"
    }
   },
   "outputs": [],
   "source": []
  },
  {
   "cell_type": "code",
   "execution_count": null,
   "metadata": {
    "vscode": {
     "languageId": "python"
    }
   },
   "outputs": [],
   "source": [
    "df_simdata.columns"
   ]
  },
  {
   "cell_type": "code",
   "execution_count": 36,
   "metadata": {
    "vscode": {
     "languageId": "python"
    }
   },
   "outputs": [],
   "source": [
    "subject_col = \"subj\"\n",
    "time_col = \"time\"\n",
    "conc_col = \"conc\""
   ]
  },
  {
   "cell_type": "code",
   "execution_count": 66,
   "metadata": {
    "vscode": {
     "languageId": "python"
    }
   },
   "outputs": [],
   "source": [
    "# Validate required columns\n",
    "\n",
    "df = df_simdata.clone()\n",
    "df = df.sort([subject_col, time_col]).clone()"
   ]
  },
  {
   "cell_type": "markdown",
   "metadata": {},
   "source": []
  },
  {
   "cell_type": "code",
   "execution_count": null,
   "metadata": {
    "vscode": {
     "languageId": "python"
    }
   },
   "outputs": [],
   "source": [
    "# The below is probably something that has to be developed in parallel to this bioeq package, it's a whole separate entity\n",
    "\n",
    "# In doing the data validation, what we want is probably something like:\n",
    "\n",
    "# Parse\n",
    "\n",
    "# 1. State all expected raw colnames and types or if applicable, expected categorical values\n",
    "# 2. State raw col to parsed col relationship\n",
    "# 3. See if there are problematic values\n",
    "# 4. Resolve problematic values and create parsed cols\n",
    "# 5. Check that they have been resolved\n",
    "# 6. Assign the correct types to all the parsed cols once we're happy with col vals\n",
    "\n",
    "# Validate\n",
    "\n",
    "# 7. Check that all col values are reasonable to human judgement (pointblank in R)\n",
    "# 8. Change those that aren't or filter out, and proceed with cleaned data (get_data_pass() in R)\n",
    "\n",
    "# Derive\n",
    "\n",
    "# 9. Create a list of cols to derive and which cols they are derived from\n",
    "# 10. Derive the columns in the dataframe\n",
    "# 11. Check that we derived all the columns that we said we would\n",
    "# 12. Check that the col vals now have reasonable values, and if not either filter or replace (pointblank in R)"
   ]
  },
  {
   "cell_type": "code",
   "execution_count": null,
   "metadata": {
    "vscode": {
     "languageId": "python"
    }
   },
   "outputs": [],
   "source": []
  }
 ],
 "metadata": {
  "language_info": {
   "name": "plaintext"
  }
 },
 "nbformat": 4,
 "nbformat_minor": 2
}
