{
 "cells": [
  {
   "cell_type": "code",
   "execution_count": 12,
   "metadata": {},
   "outputs": [],
   "source": [
    "import pandas as pd\n",
    "import numpy as np\n",
    "import polars as pl"
   ]
  },
  {
   "cell_type": "code",
   "execution_count": 15,
   "metadata": {},
   "outputs": [],
   "source": [
    "url = 'https://raw.githubusercontent.com/shaunporwal/bioeq/refs/heads/main/simdata/bioeq_simdata_1.csv'\n",
    "\n",
    "df_simdata_1 = pl.read_csv(url)\n",
    "\n"
   ]
  },
  {
   "cell_type": "code",
   "execution_count": 16,
   "metadata": {},
   "outputs": [
    {
     "data": {
      "text/html": [
       "<div><style>\n",
       ".dataframe > thead > tr,\n",
       ".dataframe > tbody > tr {\n",
       "  text-align: right;\n",
       "  white-space: pre-wrap;\n",
       "}\n",
       "</style>\n",
       "<small>shape: (144, 18)</small><table border=\"1\" class=\"dataframe\"><thead><tr><th></th><th>USUBJID</th><th>ARMCD</th><th>TRTSEQA</th><th>TRTSEQAN</th><th>TRTP</th><th>TRTPN</th><th>TRTA</th><th>TRTAN</th><th>APERIOD</th><th>APERIODC</th><th>PARAMN</th><th>PARAM</th><th>PARAMCD</th><th>AVAL</th><th>PPOUTDS</th><th>PPOUTIS</th><th>SUBJECT</th></tr><tr><td>i64</td><td>str</td><td>str</td><td>str</td><td>f64</td><td>str</td><td>f64</td><td>str</td><td>f64</td><td>f64</td><td>str</td><td>f64</td><td>str</td><td>str</td><td>f64</td><td>str</td><td>str</td><td>i64</td></tr></thead><tbody><tr><td>0</td><td>&quot;COMP-PROT-70518&quot;</td><td>&quot;AB&quot;</td><td>&quot;AB&quot;</td><td>1.0</td><td>&quot;A&quot;</td><td>1.0</td><td>&quot;A&quot;</td><td>1.0</td><td>1.0</td><td>&quot;PERIOD 1&quot;</td><td>1.0</td><td>&quot;AUC Infinity Obs (h*ng/mL)&quot;</td><td>&quot;AUCIFO&quot;</td><td>210.66047</td><td>null</td><td>null</td><td>517</td></tr><tr><td>1</td><td>&quot;COMP-PROT-70518&quot;</td><td>&quot;AB&quot;</td><td>&quot;AB&quot;</td><td>1.0</td><td>&quot;B&quot;</td><td>2.0</td><td>&quot;B&quot;</td><td>2.0</td><td>2.0</td><td>&quot;PERIOD 2&quot;</td><td>1.0</td><td>&quot;AUC Infinity Obs (h*ng/mL)&quot;</td><td>&quot;AUCIFO&quot;</td><td>595.511432</td><td>null</td><td>null</td><td>517</td></tr><tr><td>2</td><td>&quot;COMP-PROT-70518&quot;</td><td>&quot;AB&quot;</td><td>&quot;AB&quot;</td><td>1.0</td><td>&quot;A&quot;</td><td>1.0</td><td>&quot;A&quot;</td><td>1.0</td><td>1.0</td><td>&quot;PERIOD 1&quot;</td><td>3.0</td><td>&quot;AUC to Last Nonzero Conc (h*ng…</td><td>&quot;AUCLST&quot;</td><td>205.08654</td><td>null</td><td>null</td><td>517</td></tr><tr><td>3</td><td>&quot;COMP-PROT-70518&quot;</td><td>&quot;AB&quot;</td><td>&quot;AB&quot;</td><td>1.0</td><td>&quot;B&quot;</td><td>2.0</td><td>&quot;B&quot;</td><td>2.0</td><td>2.0</td><td>&quot;PERIOD 2&quot;</td><td>3.0</td><td>&quot;AUC to Last Nonzero Conc (h*ng…</td><td>&quot;AUCLST&quot;</td><td>590.93454</td><td>null</td><td>null</td><td>517</td></tr><tr><td>4</td><td>&quot;COMP-PROT-70518&quot;</td><td>&quot;AB&quot;</td><td>&quot;AB&quot;</td><td>1.0</td><td>&quot;A&quot;</td><td>1.0</td><td>&quot;A&quot;</td><td>1.0</td><td>1.0</td><td>&quot;PERIOD 1&quot;</td><td>6.0</td><td>&quot;Max Conc (ng/mL)&quot;</td><td>&quot;CMAX&quot;</td><td>24.9</td><td>null</td><td>null</td><td>517</td></tr><tr><td>&hellip;</td><td>&hellip;</td><td>&hellip;</td><td>&hellip;</td><td>&hellip;</td><td>&hellip;</td><td>&hellip;</td><td>&hellip;</td><td>&hellip;</td><td>&hellip;</td><td>&hellip;</td><td>&hellip;</td><td>&hellip;</td><td>&hellip;</td><td>&hellip;</td><td>&hellip;</td><td>&hellip;</td><td>&hellip;</td></tr><tr><td>139</td><td>&quot;COMP-PROT-79552&quot;</td><td>&quot;BA&quot;</td><td>&quot;BA&quot;</td><td>2.0</td><td>&quot;A&quot;</td><td>1.0</td><td>&quot;A&quot;</td><td>1.0</td><td>2.0</td><td>&quot;PERIOD 2&quot;</td><td>1.0</td><td>&quot;AUC Infinity Obs (h*ng/mL)&quot;</td><td>&quot;AUCIFO&quot;</td><td>651.294528</td><td>null</td><td>null</td><td>9551</td></tr><tr><td>140</td><td>&quot;COMP-PROT-79552&quot;</td><td>&quot;BA&quot;</td><td>&quot;BA&quot;</td><td>2.0</td><td>&quot;B&quot;</td><td>2.0</td><td>&quot;B&quot;</td><td>2.0</td><td>1.0</td><td>&quot;PERIOD 1&quot;</td><td>3.0</td><td>&quot;AUC to Last Nonzero Conc (h*ng…</td><td>&quot;AUCLST&quot;</td><td>876.61515</td><td>null</td><td>null</td><td>9551</td></tr><tr><td>141</td><td>&quot;COMP-PROT-79552&quot;</td><td>&quot;BA&quot;</td><td>&quot;BA&quot;</td><td>2.0</td><td>&quot;A&quot;</td><td>1.0</td><td>&quot;A&quot;</td><td>1.0</td><td>2.0</td><td>&quot;PERIOD 2&quot;</td><td>3.0</td><td>&quot;AUC to Last Nonzero Conc (h*ng…</td><td>&quot;AUCLST&quot;</td><td>625.783</td><td>null</td><td>null</td><td>9551</td></tr><tr><td>142</td><td>&quot;COMP-PROT-79552&quot;</td><td>&quot;BA&quot;</td><td>&quot;BA&quot;</td><td>2.0</td><td>&quot;B&quot;</td><td>2.0</td><td>&quot;B&quot;</td><td>2.0</td><td>1.0</td><td>&quot;PERIOD 1&quot;</td><td>6.0</td><td>&quot;Max Conc (ng/mL)&quot;</td><td>&quot;CMAX&quot;</td><td>287.0</td><td>null</td><td>null</td><td>9551</td></tr><tr><td>143</td><td>&quot;COMP-PROT-79552&quot;</td><td>&quot;BA&quot;</td><td>&quot;BA&quot;</td><td>2.0</td><td>&quot;A&quot;</td><td>1.0</td><td>&quot;A&quot;</td><td>1.0</td><td>2.0</td><td>&quot;PERIOD 2&quot;</td><td>6.0</td><td>&quot;Max Conc (ng/mL)&quot;</td><td>&quot;CMAX&quot;</td><td>60.7</td><td>null</td><td>null</td><td>9551</td></tr></tbody></table></div>"
      ],
      "text/plain": [
       "shape: (144, 18)\n",
       "┌─────┬─────────────────┬───────┬─────────┬───┬────────────┬─────────┬─────────┬─────────┐\n",
       "│     ┆ USUBJID         ┆ ARMCD ┆ TRTSEQA ┆ … ┆ AVAL       ┆ PPOUTDS ┆ PPOUTIS ┆ SUBJECT │\n",
       "│ --- ┆ ---             ┆ ---   ┆ ---     ┆   ┆ ---        ┆ ---     ┆ ---     ┆ ---     │\n",
       "│ i64 ┆ str             ┆ str   ┆ str     ┆   ┆ f64        ┆ str     ┆ str     ┆ i64     │\n",
       "╞═════╪═════════════════╪═══════╪═════════╪═══╪════════════╪═════════╪═════════╪═════════╡\n",
       "│ 0   ┆ COMP-PROT-70518 ┆ AB    ┆ AB      ┆ … ┆ 210.66047  ┆ null    ┆ null    ┆ 517     │\n",
       "│ 1   ┆ COMP-PROT-70518 ┆ AB    ┆ AB      ┆ … ┆ 595.511432 ┆ null    ┆ null    ┆ 517     │\n",
       "│ 2   ┆ COMP-PROT-70518 ┆ AB    ┆ AB      ┆ … ┆ 205.08654  ┆ null    ┆ null    ┆ 517     │\n",
       "│ 3   ┆ COMP-PROT-70518 ┆ AB    ┆ AB      ┆ … ┆ 590.93454  ┆ null    ┆ null    ┆ 517     │\n",
       "│ 4   ┆ COMP-PROT-70518 ┆ AB    ┆ AB      ┆ … ┆ 24.9       ┆ null    ┆ null    ┆ 517     │\n",
       "│ …   ┆ …               ┆ …     ┆ …       ┆ … ┆ …          ┆ …       ┆ …       ┆ …       │\n",
       "│ 139 ┆ COMP-PROT-79552 ┆ BA    ┆ BA      ┆ … ┆ 651.294528 ┆ null    ┆ null    ┆ 9551    │\n",
       "│ 140 ┆ COMP-PROT-79552 ┆ BA    ┆ BA      ┆ … ┆ 876.61515  ┆ null    ┆ null    ┆ 9551    │\n",
       "│ 141 ┆ COMP-PROT-79552 ┆ BA    ┆ BA      ┆ … ┆ 625.783    ┆ null    ┆ null    ┆ 9551    │\n",
       "│ 142 ┆ COMP-PROT-79552 ┆ BA    ┆ BA      ┆ … ┆ 287.0      ┆ null    ┆ null    ┆ 9551    │\n",
       "│ 143 ┆ COMP-PROT-79552 ┆ BA    ┆ BA      ┆ … ┆ 60.7       ┆ null    ┆ null    ┆ 9551    │\n",
       "└─────┴─────────────────┴───────┴─────────┴───┴────────────┴─────────┴─────────┴─────────┘"
      ]
     },
     "execution_count": 16,
     "metadata": {},
     "output_type": "execute_result"
    }
   ],
   "source": [
    "df_simdata_1"
   ]
  },
  {
   "cell_type": "code",
   "execution_count": null,
   "metadata": {},
   "outputs": [],
   "source": []
  }
 ],
 "metadata": {
  "kernelspec": {
   "display_name": ".venv",
   "language": "python",
   "name": "python3"
  },
  "language_info": {
   "codemirror_mode": {
    "name": "ipython",
    "version": 3
   },
   "file_extension": ".py",
   "mimetype": "text/x-python",
   "name": "python",
   "nbconvert_exporter": "python",
   "pygments_lexer": "ipython3",
   "version": "3.11.10"
  },
  "orig_nbformat": 4
 },
 "nbformat": 4,
 "nbformat_minor": 2
}
